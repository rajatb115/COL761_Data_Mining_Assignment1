{
  "nbformat": 4,
  "nbformat_minor": 0,
  "metadata": {
    "colab": {
      "name": "Part B.ipynb",
      "provenance": [],
      "collapsed_sections": [],
      "include_colab_link": true
    },
    "kernelspec": {
      "display_name": "Python 3",
      "name": "python3"
    },
    "language_info": {
      "name": "python"
    }
  },
  "cells": [
    {
      "cell_type": "markdown",
      "metadata": {
        "id": "view-in-github",
        "colab_type": "text"
      },
      "source": [
        "<a href=\"https://colab.research.google.com/github/rajatb115/COL761_Data_Mining_Assignment1/blob/main/Part_B.ipynb\" target=\"_parent\"><img src=\"https://colab.research.google.com/assets/colab-badge.svg\" alt=\"Open In Colab\"/></a>"
      ]
    },
    {
      "cell_type": "code",
      "metadata": {
        "colab": {
          "base_uri": "https://localhost:8080/"
        },
        "id": "PIGhsJaJEzAL",
        "outputId": "4cc6cb88-9a21-4dce-f3e7-0f9ca337b603"
      },
      "source": [
        "from google.colab import drive\n",
        "drive.mount('/content/drive')"
      ],
      "execution_count": null,
      "outputs": [
        {
          "output_type": "stream",
          "name": "stdout",
          "text": [
            "Mounted at /content/drive\n"
          ]
        }
      ]
    },
    {
      "cell_type": "code",
      "metadata": {
        "colab": {
          "base_uri": "https://localhost:8080/"
        },
        "id": "LJ5I0_DfBW6O",
        "outputId": "b3fbe5aa-d7cf-41ae-a545-9ca906529431"
      },
      "source": [
        "!pip install torch-scatter -f https://pytorch-geometric.com/whl/torch-${TORCH}+${CUDA}.html\n",
        "!pip install torch-sparse -f https://pytorch-geometric.com/whl/torch-${TORCH}+${CUDA}.html\n",
        "!pip install torch-cluster -f https://pytorch-geometric.com/whl/torch-${TORCH}+${CUDA}.html\n",
        "!pip install torch-spline-conv -f https://pytorch-geometric.com/whl/torch-${TORCH}+${CUDA}.html\n",
        "!pip install torch-geometric -f https://pytorch-geometric.com/whl/torch-${TORCH}+${CUDA}.html"
      ],
      "execution_count": null,
      "outputs": [
        {
          "output_type": "stream",
          "name": "stdout",
          "text": [
            "Looking in links: https://pytorch-geometric.com/whl/torch-+.html\n",
            "Collecting torch-scatter\n",
            "  Downloading torch_scatter-2.0.9.tar.gz (21 kB)\n",
            "Building wheels for collected packages: torch-scatter\n",
            "  Building wheel for torch-scatter (setup.py) ... \u001b[?25l\u001b[?25hdone\n",
            "  Created wheel for torch-scatter: filename=torch_scatter-2.0.9-cp37-cp37m-linux_x86_64.whl size=282114 sha256=613bbef9c7a5d38f3b16945b61d7b8bfd4d7f2f1bc0bd20843b847cf8aa91f41\n",
            "  Stored in directory: /root/.cache/pip/wheels/dd/57/a3/42ea193b77378ce634eb9454c9bc1e3163f3b482a35cdee4d1\n",
            "Successfully built torch-scatter\n",
            "Installing collected packages: torch-scatter\n",
            "Successfully installed torch-scatter-2.0.9\n",
            "Looking in links: https://pytorch-geometric.com/whl/torch-+.html\n",
            "Collecting torch-sparse\n",
            "  Downloading torch_sparse-0.6.12.tar.gz (43 kB)\n",
            "\u001b[K     |████████████████████████████████| 43 kB 846 kB/s \n",
            "\u001b[?25hRequirement already satisfied: scipy in /usr/local/lib/python3.7/dist-packages (from torch-sparse) (1.4.1)\n",
            "Requirement already satisfied: numpy>=1.13.3 in /usr/local/lib/python3.7/dist-packages (from scipy->torch-sparse) (1.19.5)\n",
            "Building wheels for collected packages: torch-sparse\n",
            "  Building wheel for torch-sparse (setup.py) ... \u001b[?25l\u001b[?25hdone\n",
            "  Created wheel for torch-sparse: filename=torch_sparse-0.6.12-cp37-cp37m-linux_x86_64.whl size=505740 sha256=13123dc6246062f1182b0aa15eb924e8c41da5f345629a6e8bf0de24db92e240\n",
            "  Stored in directory: /root/.cache/pip/wheels/fb/e2/2f/44956c61e3299573ffe12da9d1374c7576ca0c5fb1fe1ed38c\n",
            "Successfully built torch-sparse\n",
            "Installing collected packages: torch-sparse\n",
            "Successfully installed torch-sparse-0.6.12\n",
            "Looking in links: https://pytorch-geometric.com/whl/torch-+.html\n",
            "Collecting torch-cluster\n",
            "  Downloading torch_cluster-1.5.9.tar.gz (38 kB)\n",
            "Building wheels for collected packages: torch-cluster\n",
            "  Building wheel for torch-cluster (setup.py) ... \u001b[?25l\u001b[?25hdone\n",
            "  Created wheel for torch-cluster: filename=torch_cluster-1.5.9-cp37-cp37m-linux_x86_64.whl size=317953 sha256=1c69fb74c2a4bb66b3c99e62ccea579f729c7cebde24d4c2453622e69d02c2e2\n",
            "  Stored in directory: /root/.cache/pip/wheels/a6/60/d8/8bb27f58d8578ba8046f7ea0aadbae89a731db884a644ba361\n",
            "Successfully built torch-cluster\n",
            "Installing collected packages: torch-cluster\n",
            "Successfully installed torch-cluster-1.5.9\n",
            "Looking in links: https://pytorch-geometric.com/whl/torch-+.html\n",
            "Collecting torch-spline-conv\n",
            "  Downloading torch_spline_conv-1.2.1.tar.gz (13 kB)\n",
            "Building wheels for collected packages: torch-spline-conv\n",
            "  Building wheel for torch-spline-conv (setup.py) ... \u001b[?25l\u001b[?25hdone\n",
            "  Created wheel for torch-spline-conv: filename=torch_spline_conv-1.2.1-cp37-cp37m-linux_x86_64.whl size=133838 sha256=092a3fd96281d54658d15b35e91ecdea51442523807609e84d31ce5f8404d2da\n",
            "  Stored in directory: /root/.cache/pip/wheels/9c/33/73/780370b7c7bdf2340c0a7b971e915643f14795b4caa7a9a31f\n",
            "Successfully built torch-spline-conv\n",
            "Installing collected packages: torch-spline-conv\n",
            "Successfully installed torch-spline-conv-1.2.1\n",
            "Looking in links: https://pytorch-geometric.com/whl/torch-+.html\n",
            "Collecting torch-geometric\n",
            "  Downloading torch_geometric-2.0.2.tar.gz (325 kB)\n",
            "\u001b[K     |████████████████████████████████| 325 kB 5.4 MB/s \n",
            "\u001b[?25hRequirement already satisfied: numpy in /usr/local/lib/python3.7/dist-packages (from torch-geometric) (1.19.5)\n",
            "Requirement already satisfied: tqdm in /usr/local/lib/python3.7/dist-packages (from torch-geometric) (4.62.3)\n",
            "Requirement already satisfied: scipy in /usr/local/lib/python3.7/dist-packages (from torch-geometric) (1.4.1)\n",
            "Requirement already satisfied: networkx in /usr/local/lib/python3.7/dist-packages (from torch-geometric) (2.6.3)\n",
            "Requirement already satisfied: scikit-learn in /usr/local/lib/python3.7/dist-packages (from torch-geometric) (0.22.2.post1)\n",
            "Requirement already satisfied: requests in /usr/local/lib/python3.7/dist-packages (from torch-geometric) (2.23.0)\n",
            "Requirement already satisfied: pandas in /usr/local/lib/python3.7/dist-packages (from torch-geometric) (1.1.5)\n",
            "Collecting rdflib\n",
            "  Downloading rdflib-6.0.2-py3-none-any.whl (407 kB)\n",
            "\u001b[K     |████████████████████████████████| 407 kB 41.2 MB/s \n",
            "\u001b[?25hRequirement already satisfied: googledrivedownloader in /usr/local/lib/python3.7/dist-packages (from torch-geometric) (0.4)\n",
            "Requirement already satisfied: jinja2 in /usr/local/lib/python3.7/dist-packages (from torch-geometric) (2.11.3)\n",
            "Requirement already satisfied: pyparsing in /usr/local/lib/python3.7/dist-packages (from torch-geometric) (2.4.7)\n",
            "Collecting yacs\n",
            "  Downloading yacs-0.1.8-py3-none-any.whl (14 kB)\n",
            "Requirement already satisfied: PyYAML in /usr/local/lib/python3.7/dist-packages (from torch-geometric) (3.13)\n",
            "Requirement already satisfied: MarkupSafe>=0.23 in /usr/local/lib/python3.7/dist-packages (from jinja2->torch-geometric) (2.0.1)\n",
            "Requirement already satisfied: python-dateutil>=2.7.3 in /usr/local/lib/python3.7/dist-packages (from pandas->torch-geometric) (2.8.2)\n",
            "Requirement already satisfied: pytz>=2017.2 in /usr/local/lib/python3.7/dist-packages (from pandas->torch-geometric) (2018.9)\n",
            "Requirement already satisfied: six>=1.5 in /usr/local/lib/python3.7/dist-packages (from python-dateutil>=2.7.3->pandas->torch-geometric) (1.15.0)\n",
            "Requirement already satisfied: setuptools in /usr/local/lib/python3.7/dist-packages (from rdflib->torch-geometric) (57.4.0)\n",
            "Collecting isodate\n",
            "  Downloading isodate-0.6.0-py2.py3-none-any.whl (45 kB)\n",
            "\u001b[K     |████████████████████████████████| 45 kB 2.9 MB/s \n",
            "\u001b[?25hRequirement already satisfied: urllib3!=1.25.0,!=1.25.1,<1.26,>=1.21.1 in /usr/local/lib/python3.7/dist-packages (from requests->torch-geometric) (1.24.3)\n",
            "Requirement already satisfied: certifi>=2017.4.17 in /usr/local/lib/python3.7/dist-packages (from requests->torch-geometric) (2021.10.8)\n",
            "Requirement already satisfied: idna<3,>=2.5 in /usr/local/lib/python3.7/dist-packages (from requests->torch-geometric) (2.10)\n",
            "Requirement already satisfied: chardet<4,>=3.0.2 in /usr/local/lib/python3.7/dist-packages (from requests->torch-geometric) (3.0.4)\n",
            "Requirement already satisfied: joblib>=0.11 in /usr/local/lib/python3.7/dist-packages (from scikit-learn->torch-geometric) (1.1.0)\n",
            "Building wheels for collected packages: torch-geometric\n",
            "  Building wheel for torch-geometric (setup.py) ... \u001b[?25l\u001b[?25hdone\n",
            "  Created wheel for torch-geometric: filename=torch_geometric-2.0.2-py3-none-any.whl size=535570 sha256=12f2af2f99c632bea60d52a469b1356bc941095129537104bf21f09b7143f5ff\n",
            "  Stored in directory: /root/.cache/pip/wheels/3f/08/13/2321517088bb2e95bfd0e45033bb9c923189e5b2078e0be4ef\n",
            "Successfully built torch-geometric\n",
            "Installing collected packages: isodate, yacs, rdflib, torch-geometric\n",
            "Successfully installed isodate-0.6.0 rdflib-6.0.2 torch-geometric-2.0.2 yacs-0.1.8\n"
          ]
        }
      ]
    },
    {
      "cell_type": "code",
      "metadata": {
        "id": "MHRjIZ_rE_Zb"
      },
      "source": [
        "import torch\n",
        "import torch.nn as nn\n",
        "import networkx as nx\n",
        "import numpy as np\n",
        "import torch.nn.functional as F\n",
        "from torch_geometric.datasets import Planetoid"
      ],
      "execution_count": null,
      "outputs": []
    },
    {
      "cell_type": "code",
      "metadata": {
        "id": "q5Z6Ujyih5zO",
        "colab": {
          "base_uri": "https://localhost:8080/"
        },
        "outputId": "03db2003-860d-40c1-d465-73b05eb4811f"
      },
      "source": [
        "dataset = Planetoid(\"\",\"Cora\",num_train_per_class= 150,split= 'random' ,num_test = 1000)"
      ],
      "execution_count": null,
      "outputs": [
        {
          "output_type": "stream",
          "name": "stderr",
          "text": [
            "Downloading https://github.com/kimiyoung/planetoid/raw/master/data/ind.cora.x\n",
            "Downloading https://github.com/kimiyoung/planetoid/raw/master/data/ind.cora.tx\n",
            "Downloading https://github.com/kimiyoung/planetoid/raw/master/data/ind.cora.allx\n",
            "Downloading https://github.com/kimiyoung/planetoid/raw/master/data/ind.cora.y\n",
            "Downloading https://github.com/kimiyoung/planetoid/raw/master/data/ind.cora.ty\n",
            "Downloading https://github.com/kimiyoung/planetoid/raw/master/data/ind.cora.ally\n",
            "Downloading https://github.com/kimiyoung/planetoid/raw/master/data/ind.cora.graph\n",
            "Downloading https://github.com/kimiyoung/planetoid/raw/master/data/ind.cora.test.index\n",
            "Processing...\n",
            "Done!\n"
          ]
        }
      ]
    },
    {
      "cell_type": "code",
      "metadata": {
        "id": "e5iXE3-dhcx6"
      },
      "source": [
        "edges = dataset[0].edge_index\n",
        "vertices = dataset[0].train_mask.shape[0]\n",
        "edges = edges.T"
      ],
      "execution_count": null,
      "outputs": []
    },
    {
      "cell_type": "code",
      "metadata": {
        "id": "XQrP0wj8hgzD"
      },
      "source": [
        "adjacency = np.zeros((vertices,vertices),dtype=np.float)\n",
        "for edge in edges:\n",
        "    adjacency[edge[0]][edge[1]] = 1.00\n",
        "    adjacency[edge[1]][edge[0]] = 1.00"
      ],
      "execution_count": null,
      "outputs": []
    },
    {
      "cell_type": "code",
      "metadata": {
        "id": "Vf6-TxPqhjBr"
      },
      "source": [
        "diag = np.diag(np.sum(adjacency,axis=0))\n",
        "Transition = np.dot(np.linalg.inv(diag),adjacency)\n",
        "\n",
        "def matexpo(mat,power):\n",
        "    result = np.identity(mat.shape[0])\n",
        "    while (power!=0):\n",
        "        result = np.dot(result,mat)\n",
        "        power -= 1\n",
        "    return result\n",
        "\n",
        "Transition_fin = matexpo(Transition,0)+ matexpo(Transition,1) + matexpo(Transition,2) + matexpo(Transition,3)+ matexpo(Transition,4)\n",
        "Transition_fin = Transition_fin / 5.00"
      ],
      "execution_count": null,
      "outputs": []
    },
    {
      "cell_type": "code",
      "metadata": {
        "id": "Szk8PN0ZhlEz"
      },
      "source": [
        "#Preparation of train_data\n",
        "x_train = []\n",
        "y_train = []\n",
        "train_vertices = np.where(dataset[0].train_mask==True)\n",
        "for i in range(0,len(train_vertices[0])):\n",
        "    remaining= np.delete(train_vertices[0],i)\n",
        "    store_vec = np.zeros(vertices)\n",
        "    store_vec[train_vertices[0][i]]=1 \n",
        "    distances = np.dot(Transition_fin,store_vec).reshape(-1)\n",
        " #   non_zero_sample = np.where(distances>0)\n",
        "#    zero_sample =  np.where(distances==0)\n",
        " #   random_sample = np.concatenate((np.random.choice(non_zero_sample[0],5),np.random.choice(zero_sample[0],5)))\n",
        "    for j in range(0,len(train_vertices[0])):\n",
        "        x_train.append([train_vertices[0][i],train_vertices[0][j]])\n",
        "        y_train.append(distances[train_vertices[0][j]])\n",
        "\n",
        "x_train = np.array(x_train)\n",
        "y_train = np.array(y_train)"
      ],
      "execution_count": null,
      "outputs": []
    },
    {
      "cell_type": "code",
      "metadata": {
        "id": "N0i4ZR5TzN0a"
      },
      "source": [
        "#Preparation of valid_data\n",
        "x_val = []\n",
        "y_val = []\n",
        "val_vertices = np.where(dataset[0].val_mask==True)\n",
        "for i in range(0,len(val_vertices[0])):\n",
        "    remaining= np.delete(val_vertices[0],i)\n",
        "    store_vec = np.zeros(vertices)\n",
        "    store_vec[val_vertices[0][i]]=1 \n",
        "    distances = np.dot(Transition_fin,store_vec).reshape(-1)\n",
        "    non_zero_sample = np.where(distances>0)\n",
        "    zero_sample =  np.where(distances==0)\n",
        "    random_sample = np.concatenate((np.random.choice(non_zero_sample[0],5),np.random.choice(zero_sample[0],5)))\n",
        "    for j in range(0,10):\n",
        "        x_val.append([val_vertices[0][i],random_sample[j]])\n",
        "        y_val.append(distances[random_sample[j]])\n",
        "\n",
        "x_val = np.array(x_val)\n",
        "y_val = np.array(y_val)"
      ],
      "execution_count": null,
      "outputs": []
    },
    {
      "cell_type": "code",
      "metadata": {
        "id": "x2Bkw2fnho1S"
      },
      "source": [
        "#Preparation of test_data\n",
        "x_test = []\n",
        "y_test = []\n",
        "test_vertices = np.where(dataset[0].test_mask==True)\n",
        "for i in range(0,len(test_vertices[0])):\n",
        "    remaining= np.delete(test_vertices[0],i)\n",
        "    store_vec = np.zeros(vertices)\n",
        "    store_vec[test_vertices[0][i]]=1 \n",
        "    distances = np.dot(Transition_fin,store_vec).reshape(-1)\n",
        "    non_zero_sample = np.where(distances>0)\n",
        "    zero_sample =  np.where(distances==0)\n",
        "    random_sample = np.concatenate((np.random.choice(non_zero_sample[0],5),np.random.choice(zero_sample[0],5)))\n",
        "    for j in range(0,10):\n",
        "        x_test.append([test_vertices[0][i],random_sample[j]])\n",
        "        y_test.append(distances[random_sample[j]])\n",
        "\n",
        "x_test = np.array(x_test)\n",
        "y_test = np.array(y_test)"
      ],
      "execution_count": null,
      "outputs": []
    },
    {
      "cell_type": "code",
      "metadata": {
        "id": "lZ5ZPp6khq6n"
      },
      "source": [
        "from torch_geometric.nn import GATConv,GATv2Conv\n",
        "\n",
        "class GAT(nn.Module):\n",
        "    \n",
        "    def __init__(self,hidden_dim,output_dim):\n",
        "        super().__init__()\n",
        "        self.conv1 = GATv2Conv(in_channels= -1, out_channels= 500,heads=4,concat=False)\n",
        "        self.conv2 = GATv2Conv(in_channels= 500, out_channels= 250)      \n",
        "    def forward(self,data):\n",
        "        x, edge_index = data.x, data.edge_index\n",
        "\n",
        "        x = self.conv1(x, edge_index)\n",
        "        x = F.relu(x)\n",
        "        x = self.conv2(x, edge_index)\n",
        "        x = F.relu(x)\n",
        "        return x\n",
        "   \n",
        "class combined_model(nn.Module):\n",
        "    def __init__(self,input_dim,hidden_dim):\n",
        "        super().__init__()\n",
        "        self.layer1 = GAT(200,100)\n",
        "        self.mlp1 = nn.Linear(input_dim,hidden_dim)\n",
        "        self.mlp2 = nn.Linear(hidden_dim,1)\n",
        "\n",
        "    def forward(self,data,x):\n",
        "        embeddings = self.layer1(data)\n",
        "        x1 = torch.index_select(embeddings,0,x.T[0].flatten())\n",
        "        y1 = torch.index_select(embeddings,0,x.T[1].flatten())\n",
        "        store = torch.cat((x1,y1),dim=1)\n",
        "        store = self.mlp1(store)\n",
        "        store = F.relu(store)\n",
        "        store = self.mlp2(store)\n",
        "        store = F.relu(store)\n",
        "        return store\n",
        "\n",
        "\n",
        "device = torch.device('cuda' if torch.cuda.is_available() else 'cpu')\n",
        "model_fin = combined_model(500,400)\n",
        "model_fin = model_fin.to(device)"
      ],
      "execution_count": null,
      "outputs": []
    },
    {
      "cell_type": "code",
      "metadata": {
        "id": "VLUvabRuhtg0",
        "colab": {
          "base_uri": "https://localhost:8080/",
          "height": 1000
        },
        "outputId": "9fa928a4-47e2-4044-ab5e-7a80b1825a48"
      },
      "source": [
        "#Training and testing\n",
        "data1 = dataset[0].to(device)\n",
        "loss_func = nn.MSELoss()\n",
        "optimizer = torch.optim.Adam(model_fin.parameters(), lr=0.0001,weight_decay=1e-5)\n",
        "scheduler = torch.optim.lr_scheduler.ExponentialLR(optimizer, gamma=0.5, verbose=True)\n",
        "\n",
        "\n",
        "epoch = 200\n",
        "x_train_fin = torch.from_numpy(x_train)\n",
        "x_train_fin = x_train_fin.to(device)\n",
        "y_train_fin = torch.from_numpy(y_train)\n",
        "y_train_fin = y_train_fin.to(device)\n",
        "\n",
        "x_val_fin = torch.from_numpy(x_val)\n",
        "x_val_fin = x_val_fin.to(device)\n",
        "y_val_fin = torch.from_numpy(y_val)\n",
        "y_val_fin = y_val_fin.to(device)\n",
        "\n",
        "x_test_fin = torch.from_numpy(x_test)\n",
        "x_test_fin = x_test_fin.to(device)\n",
        "y_test_fin = torch.from_numpy(y_test)\n",
        "y_test_fin = y_test_fin.to(device)\n",
        "\n",
        "val_loss = None\n",
        "val_acc = []\n",
        "best_model = None\n",
        "patience_count= 0\n",
        "\n",
        "for i in range(0,epoch):\n",
        "    pred_val = model_fin(data1,x_train_fin).flatten()\n",
        "    y_train_fin= y_train_fin.float()\n",
        "    loss1 = loss_func(pred_val,y_train_fin)\n",
        "    print(f\"Value of training loss for epoch {i} is: \",loss1.item())  \n",
        "    optimizer.zero_grad()  \n",
        "    loss1.backward()\n",
        "    optimizer.step()\n",
        "\n",
        "    \n",
        "    pred_val = model_fin(data1,x_val_fin).flatten()\n",
        "    y_val_fin = y_val_fin.float()\n",
        "    loss1 = loss_func(pred_val,y_val_fin)\n",
        "    val_acc.append(loss1.item())\n",
        "    print(f\"Value of validation loss for epoch {i} is: \",loss1.item())    \n",
        "    if best_model is None:\n",
        "        best_model = model_fin\n",
        "        val_loss = loss1.item()\n",
        "        patience_count = 0\n",
        "\n",
        "    elif loss1.item() < val_loss:\n",
        "        best_model = model_fin\n",
        "        val_loss = loss1.item()\n",
        "        patience_count = 0\n",
        "    \n",
        "    else:\n",
        "        patience_count += 1\n",
        "\n",
        "    if(patience_count == 10):\n",
        "        patience_count = 0\n",
        "        scheduler.step()\n",
        "\n",
        "print(\"Training Done.\")"
      ],
      "execution_count": null,
      "outputs": [
        {
          "output_type": "stream",
          "name": "stdout",
          "text": [
            "Adjusting learning rate of group 0 to 1.0000e-04.\n",
            "Value of training loss for epoch 0 is:  0.0024024778977036476\n",
            "Value of validation loss for epoch 0 is:  0.007159412372857332\n",
            "Value of training loss for epoch 1 is:  0.0016586726997047663\n",
            "Value of validation loss for epoch 1 is:  0.0068598524667322636\n",
            "Value of training loss for epoch 2 is:  0.0010673003271222115\n",
            "Value of validation loss for epoch 2 is:  0.006701030768454075\n",
            "Value of training loss for epoch 3 is:  0.0006227506091818213\n",
            "Value of validation loss for epoch 3 is:  0.0066785383969545364\n",
            "Value of training loss for epoch 4 is:  0.0003211184812244028\n",
            "Value of validation loss for epoch 4 is:  0.006765737198293209\n",
            "Value of training loss for epoch 5 is:  0.00015725877892691642\n",
            "Value of validation loss for epoch 5 is:  0.0068530915305018425\n",
            "Value of training loss for epoch 6 is:  0.00011097300739493221\n",
            "Value of validation loss for epoch 6 is:  0.006891819182783365\n",
            "Value of training loss for epoch 7 is:  0.00010885746451094747\n",
            "Value of validation loss for epoch 7 is:  0.006901474203914404\n",
            "Value of training loss for epoch 8 is:  0.00010884565563173965\n",
            "Value of validation loss for epoch 8 is:  0.006903386674821377\n",
            "Value of training loss for epoch 9 is:  0.00010885551455430686\n",
            "Value of validation loss for epoch 9 is:  0.006904213689267635\n",
            "Value of training loss for epoch 10 is:  0.00010885896335821599\n",
            "Value of validation loss for epoch 10 is:  0.006904972717165947\n",
            "Value of training loss for epoch 11 is:  0.0001088614808395505\n",
            "Value of validation loss for epoch 11 is:  0.00690503790974617\n",
            "Value of training loss for epoch 12 is:  0.00010886278323596343\n",
            "Value of validation loss for epoch 12 is:  0.00690503790974617\n",
            "Value of training loss for epoch 13 is:  0.00010886278323596343\n",
            "Value of validation loss for epoch 13 is:  0.00690503790974617\n",
            "Adjusting learning rate of group 0 to 5.0000e-05.\n",
            "Value of training loss for epoch 14 is:  0.00010886278323596343\n",
            "Value of validation loss for epoch 14 is:  0.00690503790974617\n",
            "Value of training loss for epoch 15 is:  0.00010886278323596343\n",
            "Value of validation loss for epoch 15 is:  0.00690503790974617\n",
            "Value of training loss for epoch 16 is:  0.00010886278323596343\n",
            "Value of validation loss for epoch 16 is:  0.00690503790974617\n",
            "Value of training loss for epoch 17 is:  0.00010886278323596343\n",
            "Value of validation loss for epoch 17 is:  0.00690503790974617\n",
            "Value of training loss for epoch 18 is:  0.00010886278323596343\n",
            "Value of validation loss for epoch 18 is:  0.00690503790974617\n",
            "Value of training loss for epoch 19 is:  0.00010886278323596343\n",
            "Value of validation loss for epoch 19 is:  0.00690503790974617\n",
            "Value of training loss for epoch 20 is:  0.00010886278323596343\n",
            "Value of validation loss for epoch 20 is:  0.00690503790974617\n",
            "Value of training loss for epoch 21 is:  0.00010886278323596343\n",
            "Value of validation loss for epoch 21 is:  0.00690503790974617\n",
            "Value of training loss for epoch 22 is:  0.00010886278323596343\n",
            "Value of validation loss for epoch 22 is:  0.00690503790974617\n",
            "Value of training loss for epoch 23 is:  0.00010886278323596343\n",
            "Value of validation loss for epoch 23 is:  0.00690503790974617\n",
            "Adjusting learning rate of group 0 to 2.5000e-05.\n",
            "Value of training loss for epoch 24 is:  0.00010886278323596343\n",
            "Value of validation loss for epoch 24 is:  0.00690503790974617\n",
            "Value of training loss for epoch 25 is:  0.00010886278323596343\n",
            "Value of validation loss for epoch 25 is:  0.00690503790974617\n",
            "Value of training loss for epoch 26 is:  0.00010886278323596343\n",
            "Value of validation loss for epoch 26 is:  0.00690503790974617\n",
            "Value of training loss for epoch 27 is:  0.00010886278323596343\n",
            "Value of validation loss for epoch 27 is:  0.00690503790974617\n",
            "Value of training loss for epoch 28 is:  0.00010886278323596343\n",
            "Value of validation loss for epoch 28 is:  0.00690503790974617\n",
            "Value of training loss for epoch 29 is:  0.00010886278323596343\n",
            "Value of validation loss for epoch 29 is:  0.00690503790974617\n",
            "Value of training loss for epoch 30 is:  0.00010886278323596343\n",
            "Value of validation loss for epoch 30 is:  0.00690503790974617\n",
            "Value of training loss for epoch 31 is:  0.00010886278323596343\n",
            "Value of validation loss for epoch 31 is:  0.00690503790974617\n",
            "Value of training loss for epoch 32 is:  0.00010886278323596343\n",
            "Value of validation loss for epoch 32 is:  0.00690503790974617\n",
            "Value of training loss for epoch 33 is:  0.00010886278323596343\n",
            "Value of validation loss for epoch 33 is:  0.00690503790974617\n",
            "Adjusting learning rate of group 0 to 1.2500e-05.\n",
            "Value of training loss for epoch 34 is:  0.00010886278323596343\n",
            "Value of validation loss for epoch 34 is:  0.00690503790974617\n",
            "Value of training loss for epoch 35 is:  0.00010886278323596343\n",
            "Value of validation loss for epoch 35 is:  0.00690503790974617\n",
            "Value of training loss for epoch 36 is:  0.00010886278323596343\n",
            "Value of validation loss for epoch 36 is:  0.00690503790974617\n",
            "Value of training loss for epoch 37 is:  0.00010886278323596343\n",
            "Value of validation loss for epoch 37 is:  0.00690503790974617\n",
            "Value of training loss for epoch 38 is:  0.00010886278323596343\n",
            "Value of validation loss for epoch 38 is:  0.00690503790974617\n",
            "Value of training loss for epoch 39 is:  0.00010886278323596343\n",
            "Value of validation loss for epoch 39 is:  0.00690503790974617\n",
            "Value of training loss for epoch 40 is:  0.00010886278323596343\n",
            "Value of validation loss for epoch 40 is:  0.00690503790974617\n",
            "Value of training loss for epoch 41 is:  0.00010886278323596343\n",
            "Value of validation loss for epoch 41 is:  0.00690503790974617\n",
            "Value of training loss for epoch 42 is:  0.00010886278323596343\n"
          ]
        },
        {
          "output_type": "error",
          "ename": "KeyboardInterrupt",
          "evalue": "ignored",
          "traceback": [
            "\u001b[0;31m---------------------------------------------------------------------------\u001b[0m",
            "\u001b[0;31mKeyboardInterrupt\u001b[0m                         Traceback (most recent call last)",
            "\u001b[0;32m<ipython-input-12-270054e4df4e>\u001b[0m in \u001b[0;36m<module>\u001b[0;34m()\u001b[0m\n\u001b[1;32m     33\u001b[0m     \u001b[0mprint\u001b[0m\u001b[0;34m(\u001b[0m\u001b[0;34mf\"Value of training loss for epoch {i} is: \"\u001b[0m\u001b[0;34m,\u001b[0m\u001b[0mloss1\u001b[0m\u001b[0;34m.\u001b[0m\u001b[0mitem\u001b[0m\u001b[0;34m(\u001b[0m\u001b[0;34m)\u001b[0m\u001b[0;34m)\u001b[0m\u001b[0;34m\u001b[0m\u001b[0;34m\u001b[0m\u001b[0m\n\u001b[1;32m     34\u001b[0m     \u001b[0moptimizer\u001b[0m\u001b[0;34m.\u001b[0m\u001b[0mzero_grad\u001b[0m\u001b[0;34m(\u001b[0m\u001b[0;34m)\u001b[0m\u001b[0;34m\u001b[0m\u001b[0;34m\u001b[0m\u001b[0m\n\u001b[0;32m---> 35\u001b[0;31m     \u001b[0mloss1\u001b[0m\u001b[0;34m.\u001b[0m\u001b[0mbackward\u001b[0m\u001b[0;34m(\u001b[0m\u001b[0;34m)\u001b[0m\u001b[0;34m\u001b[0m\u001b[0;34m\u001b[0m\u001b[0m\n\u001b[0m\u001b[1;32m     36\u001b[0m     \u001b[0moptimizer\u001b[0m\u001b[0;34m.\u001b[0m\u001b[0mstep\u001b[0m\u001b[0;34m(\u001b[0m\u001b[0;34m)\u001b[0m\u001b[0;34m\u001b[0m\u001b[0;34m\u001b[0m\u001b[0m\n\u001b[1;32m     37\u001b[0m \u001b[0;34m\u001b[0m\u001b[0m\n",
            "\u001b[0;32m/usr/local/lib/python3.7/dist-packages/torch/_tensor.py\u001b[0m in \u001b[0;36mbackward\u001b[0;34m(self, gradient, retain_graph, create_graph, inputs)\u001b[0m\n\u001b[1;32m    305\u001b[0m                 \u001b[0mcreate_graph\u001b[0m\u001b[0;34m=\u001b[0m\u001b[0mcreate_graph\u001b[0m\u001b[0;34m,\u001b[0m\u001b[0;34m\u001b[0m\u001b[0;34m\u001b[0m\u001b[0m\n\u001b[1;32m    306\u001b[0m                 inputs=inputs)\n\u001b[0;32m--> 307\u001b[0;31m         \u001b[0mtorch\u001b[0m\u001b[0;34m.\u001b[0m\u001b[0mautograd\u001b[0m\u001b[0;34m.\u001b[0m\u001b[0mbackward\u001b[0m\u001b[0;34m(\u001b[0m\u001b[0mself\u001b[0m\u001b[0;34m,\u001b[0m \u001b[0mgradient\u001b[0m\u001b[0;34m,\u001b[0m \u001b[0mretain_graph\u001b[0m\u001b[0;34m,\u001b[0m \u001b[0mcreate_graph\u001b[0m\u001b[0;34m,\u001b[0m \u001b[0minputs\u001b[0m\u001b[0;34m=\u001b[0m\u001b[0minputs\u001b[0m\u001b[0;34m)\u001b[0m\u001b[0;34m\u001b[0m\u001b[0;34m\u001b[0m\u001b[0m\n\u001b[0m\u001b[1;32m    308\u001b[0m \u001b[0;34m\u001b[0m\u001b[0m\n\u001b[1;32m    309\u001b[0m     \u001b[0;32mdef\u001b[0m \u001b[0mregister_hook\u001b[0m\u001b[0;34m(\u001b[0m\u001b[0mself\u001b[0m\u001b[0;34m,\u001b[0m \u001b[0mhook\u001b[0m\u001b[0;34m)\u001b[0m\u001b[0;34m:\u001b[0m\u001b[0;34m\u001b[0m\u001b[0;34m\u001b[0m\u001b[0m\n",
            "\u001b[0;32m/usr/local/lib/python3.7/dist-packages/torch/autograd/__init__.py\u001b[0m in \u001b[0;36mbackward\u001b[0;34m(tensors, grad_tensors, retain_graph, create_graph, grad_variables, inputs)\u001b[0m\n\u001b[1;32m    154\u001b[0m     Variable._execution_engine.run_backward(\n\u001b[1;32m    155\u001b[0m         \u001b[0mtensors\u001b[0m\u001b[0;34m,\u001b[0m \u001b[0mgrad_tensors_\u001b[0m\u001b[0;34m,\u001b[0m \u001b[0mretain_graph\u001b[0m\u001b[0;34m,\u001b[0m \u001b[0mcreate_graph\u001b[0m\u001b[0;34m,\u001b[0m \u001b[0minputs\u001b[0m\u001b[0;34m,\u001b[0m\u001b[0;34m\u001b[0m\u001b[0;34m\u001b[0m\u001b[0m\n\u001b[0;32m--> 156\u001b[0;31m         allow_unreachable=True, accumulate_grad=True)  # allow_unreachable flag\n\u001b[0m\u001b[1;32m    157\u001b[0m \u001b[0;34m\u001b[0m\u001b[0m\n\u001b[1;32m    158\u001b[0m \u001b[0;34m\u001b[0m\u001b[0m\n",
            "\u001b[0;31mKeyboardInterrupt\u001b[0m: "
          ]
        }
      ]
    },
    {
      "cell_type": "code",
      "metadata": {
        "colab": {
          "base_uri": "https://localhost:8080/",
          "height": 265
        },
        "id": "8Fa3KPr0GVBR",
        "outputId": "d2bdf5a7-1ba1-4e4e-ee94-3d840137e1c2"
      },
      "source": [
        "import matplotlib.pyplot as plt\n",
        "val_acc = np.array(val_acc)\n",
        "x_axis = [i for i in range(0,200)]\n",
        "plt.plot(x_axis,val_acc)\n",
        "plt.show()"
      ],
      "execution_count": null,
      "outputs": [
        {
          "output_type": "display_data",
          "data": {
            "image/png": "[encoded data removed]",
            "text/plain": [
              "<Figure size 432x288 with 1 Axes>"
            ]
          },
          "metadata": {
            "needs_background": "light"
          }
        }
      ]
    },
    {
      "cell_type": "code",
      "metadata": {
        "colab": {
          "base_uri": "https://localhost:8080/"
        },
        "id": "CbedxyM21Tho",
        "outputId": "4b6fbf7d-131b-423f-ae8c-6609f7ae0a05"
      },
      "source": [
        "pred_test = model_fin(data1,x_test_fin).flatten()\n",
        "y_test_fin = y_test_fin.float()\n",
        "loss1 = loss_func(pred_test,y_test_fin)\n",
        "test_loss = loss1.item()\n",
        "print(\"Loss on test data is: \",loss1.item())"
      ],
      "execution_count": null,
      "outputs": [
        {
          "output_type": "stream",
          "name": "stdout",
          "text": [
            "Loss on test data is:  0.008047588169574738\n"
          ]
        }
      ]
    },
    {
      "cell_type": "markdown",
      "metadata": {
        "id": "jrMqRzg0jo1Y"
      },
      "source": [
        "PGNN attempt"
      ]
    },
    {
      "cell_type": "code",
      "metadata": {
        "id": "IsSmJWx_jrX8"
      },
      "source": [
        "import random\n",
        "import networkx as nx\n",
        "import multiprocessing as mp\n",
        "\n",
        "class PGNN_layer(nn.Module):\n",
        "    def __init__(self, input_dim, output_dim,dist_trainable=True):\n",
        "        super(PGNN_layer, self).__init__()\n",
        "        self.input_dim = input_dim\n",
        "        self.dist_trainable = dist_trainable\n",
        "\n",
        "        if self.dist_trainable:\n",
        "            self.dist_compute = Nonlinear(1, output_dim, 1)\n",
        "\n",
        "        self.linear_hidden = nn.Linear(input_dim*2, output_dim)\n",
        "        self.linear_out_position = nn.Linear(output_dim,1)\n",
        "        self.act = nn.ReLU()\n",
        "\n",
        "        for m in self.modules():\n",
        "            if isinstance(m, nn.Linear):\n",
        "                m.weight.data = nn.init.xavier_uniform_(m.weight.data, gain=nn.init.calculate_gain('relu'))\n",
        "                if m.bias is not None:\n",
        "                    m.bias.data = nn.init.constant_(m.bias.data, 0.0)\n",
        "\n",
        "    def forward(self, feature, dists_max, dists_argmax):\n",
        "        if self.dist_trainable:\n",
        "            dists_max = self.dist_compute(dists_max.unsqueeze(-1)).squeeze()\n",
        "\n",
        "        subset_features = feature[dists_argmax.flatten(), :]\n",
        "        subset_features = subset_features.reshape((dists_argmax.shape[0], dists_argmax.shape[1],\n",
        "                                                   feature.shape[1]))\n",
        "        messages = subset_features * dists_max.unsqueeze(-1)\n",
        "\n",
        "        self_feature = feature.unsqueeze(1).repeat(1, dists_max.shape[1], 1)\n",
        "        messages = torch.cat((messages, self_feature), dim=-1)\n",
        "\n",
        "        messages = self.linear_hidden(messages).squeeze()\n",
        "        messages = self.act(messages) # n*m*d\n",
        "\n",
        "        out_position = self.linear_out_position(messages).squeeze(-1)  # n*m_out\n",
        "        out_structure = torch.mean(messages, dim=1)  # n*d\n",
        "\n",
        "        return out_position, out_structure\n",
        "\n",
        "\n",
        "### Non linearity\n",
        "class Nonlinear(nn.Module):\n",
        "    def __init__(self, input_dim, hidden_dim, output_dim):\n",
        "        super(Nonlinear, self).__init__()\n",
        "\n",
        "        self.linear1 = nn.Linear(input_dim, hidden_dim)\n",
        "        self.linear2 = nn.Linear(hidden_dim, output_dim)\n",
        "\n",
        "        self.act = nn.ReLU()\n",
        "\n",
        "        for m in self.modules():\n",
        "            if isinstance(m, nn.Linear):\n",
        "                m.weight.data = nn.init.xavier_uniform_(m.weight.data, gain=nn.init.calculate_gain('relu'))\n",
        "                if m.bias is not None:\n",
        "                    m.bias.data = nn.init.constant_(m.bias.data, 0.0)\n",
        "\n",
        "    def forward(self, x):\n",
        "        x = self.linear1(x)\n",
        "        x = self.act(x)\n",
        "        x = self.linear2(x)\n",
        "        return x\n",
        "\n",
        "\n",
        "class PGNN(torch.nn.Module):\n",
        "    def __init__(self, input_dim, feature_dim, hidden_dim, output_dim,\n",
        "                 feature_pre=True, layer_num=2, dropout=True, **kwargs):\n",
        "        super(PGNN, self).__init__()\n",
        "        self.feature_pre = feature_pre\n",
        "        self.layer_num = layer_num\n",
        "        self.dropout = dropout\n",
        "        if layer_num == 1:\n",
        "            hidden_dim = output_dim\n",
        "        if feature_pre:\n",
        "            self.linear_pre = nn.Linear(input_dim, feature_dim)\n",
        "            self.conv_first = PGNN_layer(feature_dim, hidden_dim)\n",
        "        else:\n",
        "            self.conv_first = PGNN_layer(input_dim, hidden_dim)\n",
        "        if layer_num>1:\n",
        "            self.conv_hidden = nn.ModuleList([PGNN_layer(hidden_dim, hidden_dim) for i in range(layer_num - 2)])\n",
        "            self.conv_out = PGNN_layer(hidden_dim, output_dim)\n",
        "\n",
        "    def forward(self, data):\n",
        "        x = data.x\n",
        "        if self.feature_pre:\n",
        "            x = self.linear_pre(x)\n",
        "        x_position, x = self.conv_first(x, data.dists_max, data.dists_argmax)\n",
        "        if self.layer_num == 1:\n",
        "            return x_position\n",
        "        # x = F.relu(x) # Note: optional!\n",
        "        if self.dropout:\n",
        "            x = F.dropout(x, training=self.training)\n",
        "        for i in range(self.layer_num-2):\n",
        "            _, x = self.conv_hidden[i](x, data.dists_max, data.dists_argmax)\n",
        "            # x = F.relu(x) # Note: optional!\n",
        "            if self.dropout:\n",
        "                x = F.dropout(x, training=self.training)\n",
        "        x_position, x = self.conv_out(x, data.dists_max, data.dists_argmax)\n",
        "        x_position = F.normalize(x_position, p=2, dim=-1)\n",
        "        return x_position\n",
        "\n",
        "device = torch.device('cuda' if torch.cuda.is_available() else 'cpu')\n",
        "data1 = dataset[0].to(device)"
      ],
      "execution_count": null,
      "outputs": []
    },
    {
      "cell_type": "code",
      "metadata": {
        "id": "9aR3A3Yqr4GC"
      },
      "source": [
        "def get_random_anchorset(n,c=0.5):\n",
        "    m = int(np.log2(n))\n",
        "    copy = int(c*m)\n",
        "    anchorset_id = []\n",
        "    for i in range(m):\n",
        "        anchor_size = int(n/np.exp2(i + 1))\n",
        "        for j in range(copy):\n",
        "            anchorset_id.append(np.random.choice(n,size=anchor_size,replace=False))\n",
        "    return anchorset_id\n",
        "\n",
        "def get_dist_max(anchorset_id, dist, device):\n",
        "    dist_max = torch.zeros((dist.shape[0],len(anchorset_id))).to(device)\n",
        "    dist_argmax = torch.zeros((dist.shape[0],len(anchorset_id))).long().to(device)\n",
        "    for i in range(len(anchorset_id)):\n",
        "        temp_id = torch.as_tensor(anchorset_id[i], dtype=torch.long)\n",
        "        dist_temp = dist[:, temp_id]\n",
        "        dist_max_temp, dist_argmax_temp = torch.max(dist_temp, dim=-1)\n",
        "        dist_max[:,i] = dist_max_temp\n",
        "        dist_argmax[:,i] = temp_id[dist_argmax_temp]\n",
        "    return dist_max, dist_argmax\n",
        "\n",
        "def single_source_shortest_path_length_range(graph, node_range, cutoff):\n",
        "    dists_dict = {}\n",
        "    for node in node_range:\n",
        "        dists_dict[node] = nx.single_source_shortest_path_length(graph, node, cutoff)\n",
        "    return dists_dict\n",
        "\n",
        "def merge_dicts(dicts):\n",
        "    result = {}\n",
        "    for dictionary in dicts:\n",
        "        result.update(dictionary)\n",
        "    return result\n",
        "\n",
        "def all_pairs_shortest_path_length_parallel(graph,cutoff=None,num_workers=4):\n",
        "    nodes = list(graph.nodes)\n",
        "    random.shuffle(nodes)\n",
        "    if len(nodes)<50:\n",
        "        num_workers = int(num_workers/4)\n",
        "    elif len(nodes)<400:\n",
        "        num_workers = int(num_workers/2)\n",
        "\n",
        "    pool = mp.Pool(processes=num_workers)\n",
        "    results = [pool.apply_async(single_source_shortest_path_length_range,\n",
        "            args=(graph, nodes[int(len(nodes)/num_workers*i):int(len(nodes)/num_workers*(i+1))], cutoff)) for i in range(num_workers)]\n",
        "    output = [p.get() for p in results]\n",
        "    dists_dict = merge_dicts(output)\n",
        "    pool.close()\n",
        "    pool.join()\n",
        "    return dists_dict\n",
        "\n",
        "def precompute_dist_data(edge_index, num_nodes, approximate=0):\n",
        "        '''\n",
        "        Here dist is 1/real_dist, higher actually means closer, 0 means disconnected\n",
        "        :return:\n",
        "        '''\n",
        "        graph = nx.Graph()\n",
        "        edge_list = edge_index.transpose(1,0).tolist()\n",
        "        graph.add_edges_from(edge_list)\n",
        "\n",
        "        n = num_nodes\n",
        "        dists_array = np.zeros((n, n))\n",
        "        # dists_dict = nx.all_pairs_shortest_path_length(graph,cutoff=approximate if approximate>0 else None)\n",
        "        # dists_dict = {c[0]: c[1] for c in dists_dict}\n",
        "        dists_dict = all_pairs_shortest_path_length_parallel(graph,cutoff=approximate if approximate>0 else None)\n",
        "        for i, node_i in enumerate(graph.nodes()):\n",
        "            shortest_dist = dists_dict[node_i]\n",
        "            for j, node_j in enumerate(graph.nodes()):\n",
        "                dist = shortest_dist.get(node_j, -1)\n",
        "                if dist!=-1:\n",
        "                    # dists_array[i, j] = 1 / (dist + 1)\n",
        "                    dists_array[node_i, node_j] = 1 / (dist + 1)\n",
        "        return dists_array\n",
        "\n",
        "def preselect_anchor(data, layer_num=1, anchor_num=32, anchor_size_num=4, device='cpu'):\n",
        "\n",
        "    data.anchor_size_num = anchor_size_num\n",
        "    data.anchor_set = []\n",
        "    data.dists_max = None\n",
        "    data.dists_argmax = None\n",
        "    anchor_num_per_size = anchor_num//anchor_size_num\n",
        "    for i in range(anchor_size_num):\n",
        "        anchor_size = 2**(i+1)-1\n",
        "        anchors = np.random.choice(data.num_nodes, size=(layer_num,anchor_num_per_size,anchor_size), replace=True)\n",
        "        data.anchor_set.append(anchors)\n",
        "    data.anchor_set_indicator = np.zeros((layer_num, anchor_num, data.num_nodes), dtype=int)\n",
        "\n",
        "    anchorset_id = get_random_anchorset(data.num_nodes,c=1)\n",
        "    data.dists_max, data.dists_argmax = get_dist_max(anchorset_id, data.dists, device)\n",
        "    return data\n",
        "\n",
        "data2 = data1\n",
        "data2.dists = torch.tensor(precompute_dist_data(data2.edge_index, data2.num_nodes ))\n",
        "data2 = preselect_anchor(data2)"
      ],
      "execution_count": null,
      "outputs": []
    },
    {
      "cell_type": "code",
      "metadata": {
        "id": "dj8B4qD42c2M"
      },
      "source": [
        "class combined_model_2(nn.Module):\n",
        "    def __init__(self,input_dim,hidden_dim):\n",
        "        super().__init__()\n",
        "        self.layer1 = PGNN(1433,100,500, 100)\n",
        "        self.mlp1 = nn.Linear(input_dim,hidden_dim)\n",
        "        self.mlp2 = nn.Linear(hidden_dim,1)\n",
        "\n",
        "    def forward(self,data,x):\n",
        "        embeddings = self.layer1(data)\n",
        "        x1 = torch.index_select(embeddings,0,x.T[0].flatten())\n",
        "        y1 = torch.index_select(embeddings,0,x.T[1].flatten())\n",
        "        store = torch.cat((x1,y1),dim=1)\n",
        "        store = self.mlp1(store)\n",
        "        store = F.relu(store)\n",
        "        store = self.mlp2(store)\n",
        "        store = F.relu(store)\n",
        "        return store\n",
        "\n",
        "model_fin_2 = combined_model_2(242,400)\n",
        "model_fin_2 = model_fin_2.to(device)\n",
        "\n"
      ],
      "execution_count": null,
      "outputs": []
    },
    {
      "cell_type": "code",
      "metadata": {
        "colab": {
          "base_uri": "https://localhost:8080/"
        },
        "id": "mm_t70nN4iu7",
        "outputId": "8a2359da-1fd5-4b50-af3d-b5381e13b28b"
      },
      "source": [
        "optimizer_2 = torch.optim.Adam(model_fin_2.parameters(), lr=0.0001,weight_decay=1e-5)\n",
        "scheduler_2 = torch.optim.lr_scheduler.ExponentialLR(optimizer_2, gamma=0.5, verbose=True)\n",
        "loss_func = nn.MSELoss()\n",
        "x_train_fin = torch.from_numpy(x_train)\n",
        "x_train_fin = x_train_fin.to(device)\n",
        "y_train_fin = torch.from_numpy(y_train)\n",
        "y_train_fin = y_train_fin.to(device)\n",
        "\n",
        "x_val_fin = torch.from_numpy(x_val)\n",
        "x_val_fin = x_val_fin.to(device)\n",
        "y_val_fin = torch.from_numpy(y_val)\n",
        "y_val_fin = y_val_fin.to(device)\n",
        "\n",
        "x_test_fin = torch.from_numpy(x_test)\n",
        "x_test_fin = x_test_fin.to(device)\n",
        "y_test_fin = torch.from_numpy(y_test)\n",
        "y_test_fin = y_test_fin.to(device)\n",
        "\n",
        "val_loss = None\n",
        "val_acc = []\n",
        "best_model = None\n",
        "patience_count= 0\n",
        "epoch = 100\n",
        "for i in range(0,epoch):\n",
        "    pred_val = model_fin_2(data2,x_train_fin).flatten()\n",
        "    y_train_fin= y_train_fin.float()\n",
        "    loss1 = loss_func(pred_val,y_train_fin)\n",
        "    print(f\"Value of training loss for epoch {i} is: \",loss1.item())  \n",
        "    optimizer_2.zero_grad()  \n",
        "    loss1.backward()\n",
        "    optimizer_2.step()\n",
        "\n",
        "    \n",
        "    pred_val = model_fin_2(data1,x_val_fin).flatten()\n",
        "    y_val_fin = y_val_fin.float()\n",
        "    loss1 = loss_func(pred_val,y_val_fin)\n",
        "    val_acc.append(loss1.item())\n",
        "    print(f\"Value of validation loss for epoch {i} is: \",loss1.item())    \n",
        "    if best_model is None:\n",
        "        best_model = model_fin_2\n",
        "        val_loss = loss1.item()\n",
        "        patience_count = 0\n",
        "\n",
        "    elif loss1.item() < val_loss:\n",
        "        best_model = model_fin_2\n",
        "        val_loss = loss1.item()\n",
        "        patience_count = 0\n",
        "    \n",
        "    else:\n",
        "        patience_count += 1\n",
        "\n",
        "    if(patience_count == 10):\n",
        "        patience_count = 0\n",
        "        scheduler_2.step()\n",
        "\n",
        "print(\"Training Done.\")"
      ],
      "execution_count": null,
      "outputs": [
        {
          "output_type": "stream",
          "name": "stdout",
          "text": [
            "Adjusting learning rate of group 0 to 1.0000e-04.\n"
          ]
        }
      ]
    }
  ]
}